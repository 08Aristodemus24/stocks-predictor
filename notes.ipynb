{
 "cells": [
  {
   "cell_type": "markdown",
   "metadata": {},
   "source": [
    "# Insights:\n",
    "* open xm account, after creation you will have to verify your account using drivers license, or any kind of ID, once verified open an additional demo account using metatrader 4 since metatrader 4 is more built for forex\n",
    "* I can use a demo account with play money of 10000 dollars to practice forex trading on, nd when I get good at practicing I can open a xm metatrader 4 forex account not the 5 since it has limited indicators of wheter a currency has dropped or gone up"
   ]
  },
  {
   "cell_type": "markdown",
   "metadata": {},
   "source": [
    "# Articles, Papers, Videos, Repositories:\n",
    "Basics of forex: https://www.babypips.com/learn/forex/buying-selling-currency-pairs\n",
    "Intermediate concepts and how you can use your schedule and risk personality type to how you trade: forex factory forum"
   ]
  },
  {
   "cell_type": "markdown",
   "metadata": {},
   "source": [
    "# To do:\n",
    "* finish bibiano forex module 2-4\n",
    "* write down idea of how pips across multiple days work, the indicators, stop loss, buy limit, sell limit, etc.\n",
    "* finish course on basics at babypips\n",
    "* download images and extract information from images using pytesseract"
   ]
  }
 ],
 "metadata": {
  "language_info": {
   "name": "python"
  }
 },
 "nbformat": 4,
 "nbformat_minor": 2
}
