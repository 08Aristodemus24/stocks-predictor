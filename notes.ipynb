{
 "cells": [
  {
   "cell_type": "markdown",
   "metadata": {},
   "source": [
    "# Insights:\n",
    "* I can use a demo account with play money of 10000 dollars to practice forex trading on, nd when I get good at practicing I can open a xm metatrader 4 forex account not the 5 since it has limited indicators of wheter a currency has dropped or gone up"
   ]
  },
  {
   "cell_type": "markdown",
   "metadata": {},
   "source": [
    "# Articles, Papers, Videos, Repositories:\n",
    "Basics of forex: https://www.babypips.com/learn/forex/buying-selling-currency-pairs\n",
    "Intermediate concepts and how you can use your schedule and risk personality type to how you trade: forex factory forum"
   ]
  }
 ],
 "metadata": {
  "language_info": {
   "name": "python"
  }
 },
 "nbformat": 4,
 "nbformat_minor": 2
}
